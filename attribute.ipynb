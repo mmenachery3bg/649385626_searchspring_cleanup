{
 "cells": [
  {
   "cell_type": "markdown",
   "metadata": {},
   "source": [
    "## BigCommerce  Attributes"
   ]
  },
  {
   "cell_type": "code",
   "execution_count": 1,
   "metadata": {},
   "outputs": [],
   "source": [
    "import pandas as pd\n",
    "from connect_training import wb_Db\n",
    "from string_cleaner import show_dictionary\n",
    "from string_cleaner import showDF\n",
    "db = wb_Db()"
   ]
  },
  {
   "cell_type": "code",
   "execution_count": 2,
   "metadata": {},
   "outputs": [],
   "source": [
    "def pullBcCustomFields():\n",
    "    query = f\"\"\"\n",
    "        select \"Product ID\"\n",
    "        , \"Product Code/SKU\"\n",
    "        ,\"Category String\"\n",
    "        ,\"Product Custom Fields\" \n",
    "        from bc_items_all_cols biac \n",
    "        \"\"\"\n",
    "    list_ = db.runQuery(query)\n",
    "    columns = [\"Product ID\"\n",
    "        , \"Product Code/SKU\"\n",
    "        ,\"Category String\"\n",
    "        ,\"Product Custom Fields\"]\n",
    "    return list_, columns\n",
    "\n",
    "\n",
    "\n",
    "def convertBCAttributeToDict(record, see_set = False):\n",
    "    \"\"\"\n",
    "    Input: BigCommerce Product Customs Field in the below format to a collection on key-value pairs (dictionary)\n",
    "    STRING ----\"ATTRIBUTE=VALUE\"; \"ATTRIBUTE=VALUE\"; \"ATTRIBUTE=VALUE\"; \"ATTRIBUTE=VALUE\"; ...\n",
    "    Ouput Dictionary\n",
    "    \"\"\"\n",
    "    dict_ = {}\n",
    "    set_ = set()\n",
    "    for pair in record.split(';'):\n",
    "        pair = [i for i in pair.replace('\"','').split('=')]\n",
    "        if len(pair)>1:\n",
    "            dict_[pair[0]] = pair[-1]\n",
    "            set_.add(pair[0])\n",
    "            \n",
    "    if see_set:\n",
    "        return dict_, set_\n",
    "    return dict_\n",
    "\n",
    "\n",
    "\n",
    "\n",
    "def create_Attribute_DataFrame():\n",
    "    \"\"\"\n",
    "    Input: SQL select query from \n",
    "    \n",
    "    \"\"\"\n",
    "    list_, columns = pullBcCustomFields()\n",
    "    df = pd.DataFrame(data= list_, columns= columns)\n",
    "    records = [convertBCAttributeToDict(record[-1]) for record in list_]\n",
    "    \n",
    "    df_ = pd.DataFrame.from_records(records)\n",
    "    for i in df_.columns:\n",
    "        df[i] = df_[i]\n",
    "     \n",
    "    return df \n",
    "\n",
    "def removeEmptyFields(a):\n",
    "    \"\"\"\n",
    "    Entering dataframe\n",
    "    Output dataframe without empty fields.\n",
    "    \"\"\"\n",
    "    length = len(a)\n",
    "    for col in a.columns:\n",
    "        if length == a[col].isna().sum():\n",
    "            a = a.drop(columns=[col])\n",
    "    return a"
   ]
  },
  {
   "cell_type": "code",
   "execution_count": 3,
   "metadata": {
    "scrolled": true
   },
   "outputs": [],
   "source": [
    "df = create_Attribute_DataFrame()\n",
    "# df= df.drop(columns=['Product Custom Fields'])\n",
    "# df.to_csv('upload_files/update_table.csv', index=False)"
   ]
  },
  {
   "cell_type": "code",
   "execution_count": 17,
   "metadata": {
    "scrolled": false
   },
   "outputs": [
    {
     "name": "stdout",
     "output_type": "stream",
     "text": [
      "Number of Records - 1600\n"
     ]
    },
    {
     "data": {
      "text/html": [
       "<div>\n",
       "<style scoped>\n",
       "    .dataframe tbody tr th:only-of-type {\n",
       "        vertical-align: middle;\n",
       "    }\n",
       "\n",
       "    .dataframe tbody tr th {\n",
       "        vertical-align: top;\n",
       "    }\n",
       "\n",
       "    .dataframe thead th {\n",
       "        text-align: right;\n",
       "    }\n",
       "</style>\n",
       "<table border=\"1\" class=\"dataframe\">\n",
       "  <thead>\n",
       "    <tr style=\"text-align: right;\">\n",
       "      <th></th>\n",
       "      <th>Product ID</th>\n",
       "      <th>Product Code/SKU</th>\n",
       "      <th>Category String</th>\n",
       "      <th>Product Custom Fields</th>\n",
       "      <th>Dual-Sided</th>\n",
       "      <th>Belt Series</th>\n",
       "      <th>Length (in)</th>\n",
       "      <th>Height (In)</th>\n",
       "      <th>Upper Width (Per Section - in)</th>\n",
       "      <th>Number of Bands</th>\n",
       "      <th>Intended Pulley Angle</th>\n",
       "      <th>Belt Pitch Length (in)</th>\n",
       "    </tr>\n",
       "  </thead>\n",
       "  <tbody>\n",
       "    <tr>\n",
       "      <th>38</th>\n",
       "      <td>48780</td>\n",
       "      <td>500J4 - D&amp;D GLOBAL</td>\n",
       "      <td>Transmission Belts/V-Belts</td>\n",
       "      <td>Dual-Sided=No;\"Belt Series=J\";\"Number of Bands...</td>\n",
       "      <td>No</td>\n",
       "      <td>J</td>\n",
       "      <td>50.5</td>\n",
       "      <td>No</td>\n",
       "      <td>0.368</td>\n",
       "      <td>4</td>\n",
       "      <td>0.16</td>\n",
       "      <td>50.5</td>\n",
       "    </tr>\n",
       "  </tbody>\n",
       "</table>\n",
       "</div>"
      ],
      "text/plain": [
       "    Product ID    Product Code/SKU             Category String  \\\n",
       "38       48780  500J4 - D&D GLOBAL  Transmission Belts/V-Belts   \n",
       "\n",
       "                                Product Custom Fields Dual-Sided Belt Series  \\\n",
       "38  Dual-Sided=No;\"Belt Series=J\";\"Number of Bands...         No           J   \n",
       "\n",
       "   Length (in) Height (In) Upper Width (Per Section - in) Number of Bands  \\\n",
       "38        50.5          No                          0.368               4   \n",
       "\n",
       "   Intended Pulley Angle Belt Pitch Length (in)  \n",
       "38                  0.16                   50.5  "
      ]
     },
     "execution_count": 17,
     "metadata": {},
     "output_type": "execute_result"
    }
   ],
   "source": [
    "df_ = removeEmptyFields(df.loc[df['Belt Pitch Length (in)'].isna()==False])\n",
    "showDF(df_)"
   ]
  },
  {
   "cell_type": "code",
   "execution_count": 18,
   "metadata": {},
   "outputs": [
    {
     "data": {
      "text/plain": [
       "['Belt Pitch Length (in)']"
      ]
     },
     "execution_count": 18,
     "metadata": {},
     "output_type": "execute_result"
    }
   ],
   "source": [
    "[i for i in sorted(df_.columns) if 'Pitch' in i]"
   ]
  },
  {
   "cell_type": "code",
   "execution_count": 19,
   "metadata": {
    "scrolled": false
   },
   "outputs": [
    {
     "data": {
      "text/plain": [
       "Transmission Belts/V-Belts    1600\n",
       "Name: Category String, dtype: int64"
      ]
     },
     "execution_count": 19,
     "metadata": {},
     "output_type": "execute_result"
    }
   ],
   "source": [
    "df_['Category String'].value_counts()"
   ]
  },
  {
   "cell_type": "code",
   "execution_count": 20,
   "metadata": {
    "scrolled": false
   },
   "outputs": [
    {
     "name": "stdout",
     "output_type": "stream",
     "text": [
      "Number of Records - 23277\n"
     ]
    },
    {
     "data": {
      "text/html": [
       "<div>\n",
       "<style scoped>\n",
       "    .dataframe tbody tr th:only-of-type {\n",
       "        vertical-align: middle;\n",
       "    }\n",
       "\n",
       "    .dataframe tbody tr th {\n",
       "        vertical-align: top;\n",
       "    }\n",
       "\n",
       "    .dataframe thead th {\n",
       "        text-align: right;\n",
       "    }\n",
       "</style>\n",
       "<table border=\"1\" class=\"dataframe\">\n",
       "  <thead>\n",
       "    <tr style=\"text-align: right;\">\n",
       "      <th></th>\n",
       "      <th>Product ID</th>\n",
       "      <th>Product Code/SKU</th>\n",
       "      <th>Category String</th>\n",
       "      <th>Product Custom Fields</th>\n",
       "      <th>Number of Teeth</th>\n",
       "      <th>Dual-Sided</th>\n",
       "      <th>Belt Series</th>\n",
       "      <th>Belt Pitch Length (mm)</th>\n",
       "      <th>Length (in)</th>\n",
       "      <th>Length (mm)</th>\n",
       "      <th>Height (In)</th>\n",
       "      <th>Number of Ribs</th>\n",
       "      <th>Width (In)</th>\n",
       "      <th>Cogged</th>\n",
       "      <th>Height (mm)</th>\n",
       "      <th>Material</th>\n",
       "      <th>Width (mm)</th>\n",
       "      <th>Pitch (mm)</th>\n",
       "    </tr>\n",
       "  </thead>\n",
       "  <tbody>\n",
       "    <tr>\n",
       "      <th>0</th>\n",
       "      <td>48734</td>\n",
       "      <td>72XL075 - D&amp;D GLOBAL</td>\n",
       "      <td>Transmission Belts/Synchronous Belts</td>\n",
       "      <td>\"Number of Teeth=36\";Dual-Sided=No;\"Belt Serie...</td>\n",
       "      <td>36</td>\n",
       "      <td>No</td>\n",
       "      <td>XL</td>\n",
       "      <td>5.08</td>\n",
       "      <td>7.2</td>\n",
       "      <td>182.88</td>\n",
       "      <td>No</td>\n",
       "      <td>2.28</td>\n",
       "      <td>19.05</td>\n",
       "      <td>NaN</td>\n",
       "      <td>NaN</td>\n",
       "      <td>NaN</td>\n",
       "      <td>NaN</td>\n",
       "      <td>NaN</td>\n",
       "    </tr>\n",
       "  </tbody>\n",
       "</table>\n",
       "</div>"
      ],
      "text/plain": [
       "   Product ID      Product Code/SKU                       Category String  \\\n",
       "0       48734  72XL075 - D&D GLOBAL  Transmission Belts/Synchronous Belts   \n",
       "\n",
       "                               Product Custom Fields Number of Teeth  \\\n",
       "0  \"Number of Teeth=36\";Dual-Sided=No;\"Belt Serie...              36   \n",
       "\n",
       "  Dual-Sided Belt Series Belt Pitch Length (mm) Length (in) Length (mm)  \\\n",
       "0         No          XL                   5.08         7.2      182.88   \n",
       "\n",
       "  Height (In) Number of Ribs Width (In) Cogged Height (mm) Material  \\\n",
       "0          No           2.28      19.05    NaN         NaN      NaN   \n",
       "\n",
       "  Width (mm) Pitch (mm)  \n",
       "0        NaN        NaN  "
      ]
     },
     "execution_count": 20,
     "metadata": {},
     "output_type": "execute_result"
    }
   ],
   "source": [
    "df_ = removeEmptyFields(df.loc[df['Belt Pitch Length (mm)'].isna()==False])\n",
    "showDF(df_)"
   ]
  },
  {
   "cell_type": "code",
   "execution_count": 21,
   "metadata": {},
   "outputs": [
    {
     "data": {
      "text/plain": [
       "['Belt Pitch Length (mm)', 'Pitch (mm)']"
      ]
     },
     "execution_count": 21,
     "metadata": {},
     "output_type": "execute_result"
    }
   ],
   "source": [
    "[i for i in sorted(df_.columns) if 'Pitch' in i]"
   ]
  },
  {
   "cell_type": "code",
   "execution_count": 22,
   "metadata": {
    "scrolled": false
   },
   "outputs": [
    {
     "data": {
      "text/plain": [
       "Transmission Belts/Synchronous Belts    23277\n",
       "Name: Category String, dtype: int64"
      ]
     },
     "execution_count": 22,
     "metadata": {},
     "output_type": "execute_result"
    }
   ],
   "source": [
    "df_['Category String'].value_counts()"
   ]
  },
  {
   "cell_type": "code",
   "execution_count": 23,
   "metadata": {
    "scrolled": false
   },
   "outputs": [
    {
     "name": "stdout",
     "output_type": "stream",
     "text": [
      "Number of Records - 3957\n"
     ]
    },
    {
     "data": {
      "text/html": [
       "<div>\n",
       "<style scoped>\n",
       "    .dataframe tbody tr th:only-of-type {\n",
       "        vertical-align: middle;\n",
       "    }\n",
       "\n",
       "    .dataframe tbody tr th {\n",
       "        vertical-align: top;\n",
       "    }\n",
       "\n",
       "    .dataframe thead th {\n",
       "        text-align: right;\n",
       "    }\n",
       "</style>\n",
       "<table border=\"1\" class=\"dataframe\">\n",
       "  <thead>\n",
       "    <tr style=\"text-align: right;\">\n",
       "      <th></th>\n",
       "      <th>Product ID</th>\n",
       "      <th>Product Code/SKU</th>\n",
       "      <th>Category String</th>\n",
       "      <th>Product Custom Fields</th>\n",
       "      <th>Number of Teeth</th>\n",
       "      <th>Width (In)</th>\n",
       "      <th>Width Inch</th>\n",
       "      <th>Height Inch</th>\n",
       "      <th>Width MM</th>\n",
       "      <th>Height MM</th>\n",
       "      <th>Length Inch</th>\n",
       "      <th>Length MM</th>\n",
       "      <th>Timing Belt Pitch Inch</th>\n",
       "      <th>Timing Belt Pitch MM</th>\n",
       "    </tr>\n",
       "  </thead>\n",
       "  <tbody>\n",
       "    <tr>\n",
       "      <th>66711</th>\n",
       "      <td>135169</td>\n",
       "      <td>250XL100 - BESTORQ</td>\n",
       "      <td>Transmission Belts/Synchronous Belts</td>\n",
       "      <td>\"Length Inch=25\"\"\"\"\";\"Length MM=635\";\"Width In...</td>\n",
       "      <td>NaN</td>\n",
       "      <td>NaN</td>\n",
       "      <td>1</td>\n",
       "      <td>0.09</td>\n",
       "      <td>25.4</td>\n",
       "      <td>2.29</td>\n",
       "      <td>25</td>\n",
       "      <td>635</td>\n",
       "      <td>0.2</td>\n",
       "      <td>5.08</td>\n",
       "    </tr>\n",
       "  </tbody>\n",
       "</table>\n",
       "</div>"
      ],
      "text/plain": [
       "       Product ID    Product Code/SKU                       Category String  \\\n",
       "66711      135169  250XL100 - BESTORQ  Transmission Belts/Synchronous Belts   \n",
       "\n",
       "                                   Product Custom Fields Number of Teeth  \\\n",
       "66711  \"Length Inch=25\"\"\"\"\";\"Length MM=635\";\"Width In...             NaN   \n",
       "\n",
       "      Width (In) Width Inch Height Inch Width MM Height MM Length Inch  \\\n",
       "66711        NaN          1        0.09     25.4      2.29          25   \n",
       "\n",
       "      Length MM Timing Belt Pitch Inch Timing Belt Pitch MM  \n",
       "66711       635                    0.2                 5.08  "
      ]
     },
     "execution_count": 23,
     "metadata": {},
     "output_type": "execute_result"
    }
   ],
   "source": [
    "df_ = removeEmptyFields(df.loc[df['Timing Belt Pitch Inch'].isna()==False])\n",
    "showDF(df_)"
   ]
  },
  {
   "cell_type": "code",
   "execution_count": 24,
   "metadata": {},
   "outputs": [
    {
     "data": {
      "text/plain": [
       "['Timing Belt Pitch Inch', 'Timing Belt Pitch MM']"
      ]
     },
     "execution_count": 24,
     "metadata": {},
     "output_type": "execute_result"
    }
   ],
   "source": [
    "[i for i in sorted(df_.columns) if 'Pitch' in i]"
   ]
  },
  {
   "cell_type": "code",
   "execution_count": 25,
   "metadata": {
    "scrolled": false
   },
   "outputs": [
    {
     "data": {
      "text/plain": [
       "Transmission Belts/Synchronous Belts    3954\n",
       "Transmission Belts/V-Belts                 3\n",
       "Name: Category String, dtype: int64"
      ]
     },
     "execution_count": 25,
     "metadata": {},
     "output_type": "execute_result"
    }
   ],
   "source": [
    "df_['Category String'].value_counts()"
   ]
  },
  {
   "cell_type": "code",
   "execution_count": null,
   "metadata": {},
   "outputs": [],
   "source": []
  },
  {
   "cell_type": "code",
   "execution_count": 15,
   "metadata": {
    "scrolled": false
   },
   "outputs": [
    {
     "name": "stdout",
     "output_type": "stream",
     "text": [
      "Number of Records - 2\n"
     ]
    },
    {
     "data": {
      "text/html": [
       "<div>\n",
       "<style scoped>\n",
       "    .dataframe tbody tr th:only-of-type {\n",
       "        vertical-align: middle;\n",
       "    }\n",
       "\n",
       "    .dataframe tbody tr th {\n",
       "        vertical-align: top;\n",
       "    }\n",
       "\n",
       "    .dataframe thead th {\n",
       "        text-align: right;\n",
       "    }\n",
       "</style>\n",
       "<table border=\"1\" class=\"dataframe\">\n",
       "  <thead>\n",
       "    <tr style=\"text-align: right;\">\n",
       "      <th></th>\n",
       "      <th>Product ID</th>\n",
       "      <th>Product Code/SKU</th>\n",
       "      <th>Category String</th>\n",
       "      <th>Product Custom Fields</th>\n",
       "      <th>Number of Teeth</th>\n",
       "      <th>Dual-Sided</th>\n",
       "      <th>Belt Series</th>\n",
       "      <th>Belt Pitch Length (mm)</th>\n",
       "      <th>Length (in)</th>\n",
       "      <th>Length (mm)</th>\n",
       "      <th>Height (In)</th>\n",
       "      <th>Number of Ribs</th>\n",
       "      <th>Width (In)</th>\n",
       "      <th>Cogged</th>\n",
       "      <th>Height (mm)</th>\n",
       "      <th>Material</th>\n",
       "      <th>Width (mm)</th>\n",
       "      <th>Pitch (mm)</th>\n",
       "    </tr>\n",
       "  </thead>\n",
       "  <tbody>\n",
       "    <tr>\n",
       "      <th>11211</th>\n",
       "      <td>61821</td>\n",
       "      <td>3048-8M-370SLV - D&amp;D GLOBAL</td>\n",
       "      <td>Transmission Belts/Synchronous Belts</td>\n",
       "      <td>\"Number of Teeth=381\";\"Length (mm)=3048\";Cogge...</td>\n",
       "      <td>381</td>\n",
       "      <td>No</td>\n",
       "      <td>8M</td>\n",
       "      <td>8</td>\n",
       "      <td>120</td>\n",
       "      <td>3048</td>\n",
       "      <td>No</td>\n",
       "      <td>5.84</td>\n",
       "      <td>370</td>\n",
       "      <td>No</td>\n",
       "      <td>5.84</td>\n",
       "      <td>Polyester</td>\n",
       "      <td>370</td>\n",
       "      <td>8</td>\n",
       "    </tr>\n",
       "  </tbody>\n",
       "</table>\n",
       "</div>"
      ],
      "text/plain": [
       "       Product ID             Product Code/SKU  \\\n",
       "11211       61821  3048-8M-370SLV - D&D GLOBAL   \n",
       "\n",
       "                            Category String  \\\n",
       "11211  Transmission Belts/Synchronous Belts   \n",
       "\n",
       "                                   Product Custom Fields Number of Teeth  \\\n",
       "11211  \"Number of Teeth=381\";\"Length (mm)=3048\";Cogge...             381   \n",
       "\n",
       "      Dual-Sided Belt Series Belt Pitch Length (mm) Length (in) Length (mm)  \\\n",
       "11211         No          8M                      8         120        3048   \n",
       "\n",
       "      Height (In) Number of Ribs Width (In) Cogged Height (mm)   Material  \\\n",
       "11211          No           5.84        370     No        5.84  Polyester   \n",
       "\n",
       "      Width (mm) Pitch (mm)  \n",
       "11211        370          8  "
      ]
     },
     "execution_count": 15,
     "metadata": {},
     "output_type": "execute_result"
    }
   ],
   "source": [
    "df_ = removeEmptyFields(df.loc[df['Pitch (mm)'].isna()==False])\n",
    "showDF(df_)"
   ]
  },
  {
   "cell_type": "code",
   "execution_count": 16,
   "metadata": {},
   "outputs": [
    {
     "data": {
      "text/plain": [
       "['Belt Pitch Length (mm)', 'Pitch (mm)']"
      ]
     },
     "execution_count": 16,
     "metadata": {},
     "output_type": "execute_result"
    }
   ],
   "source": [
    "[i for i in sorted(df_.columns) if 'Pitch' in i]"
   ]
  },
  {
   "cell_type": "code",
   "execution_count": 13,
   "metadata": {
    "scrolled": false
   },
   "outputs": [
    {
     "name": "stdout",
     "output_type": "stream",
     "text": [
      "Number of Records - 5866\n"
     ]
    },
    {
     "data": {
      "text/html": [
       "<div>\n",
       "<style scoped>\n",
       "    .dataframe tbody tr th:only-of-type {\n",
       "        vertical-align: middle;\n",
       "    }\n",
       "\n",
       "    .dataframe tbody tr th {\n",
       "        vertical-align: top;\n",
       "    }\n",
       "\n",
       "    .dataframe thead th {\n",
       "        text-align: right;\n",
       "    }\n",
       "</style>\n",
       "<table border=\"1\" class=\"dataframe\">\n",
       "  <thead>\n",
       "    <tr style=\"text-align: right;\">\n",
       "      <th></th>\n",
       "      <th>Product ID</th>\n",
       "      <th>Product Code/SKU</th>\n",
       "      <th>Category String</th>\n",
       "      <th>Product Custom Fields</th>\n",
       "      <th>Material</th>\n",
       "      <th>Overall Length Inch</th>\n",
       "      <th>Overall Length MM</th>\n",
       "      <th>Bore / Inner Diameter Inch</th>\n",
       "      <th>Bore / Inner Diameter MM</th>\n",
       "      <th>Thread Size</th>\n",
       "      <th>...</th>\n",
       "      <th>Bushing Style</th>\n",
       "      <th>Min Usable Length Inch</th>\n",
       "      <th>Min Usable Length MM</th>\n",
       "      <th>Belt Width Inch</th>\n",
       "      <th>Belt Width MM</th>\n",
       "      <th>Pressure Angle</th>\n",
       "      <th>Diametral Pitch</th>\n",
       "      <th>E Dim Inch</th>\n",
       "      <th>I Dim Inch</th>\n",
       "      <th>M Dim Inch</th>\n",
       "    </tr>\n",
       "  </thead>\n",
       "  <tbody>\n",
       "    <tr>\n",
       "      <th>176143</th>\n",
       "      <td>261039</td>\n",
       "      <td>25A18 - B &amp; B MANUFACTURING</td>\n",
       "      <td>Sprockets/Roller Chain Sprocket</td>\n",
       "      <td>Teeth=18;\"Tooth Style=25\";Type=A;\"Bore Type=Mi...</td>\n",
       "      <td>Steel</td>\n",
       "      <td>0.11</td>\n",
       "      <td>2.794</td>\n",
       "      <td>0.25</td>\n",
       "      <td>6.35</td>\n",
       "      <td>NaN</td>\n",
       "      <td>...</td>\n",
       "      <td>NaN</td>\n",
       "      <td>NaN</td>\n",
       "      <td>NaN</td>\n",
       "      <td>NaN</td>\n",
       "      <td>NaN</td>\n",
       "      <td>NaN</td>\n",
       "      <td>NaN</td>\n",
       "      <td>NaN</td>\n",
       "      <td>NaN</td>\n",
       "      <td>NaN</td>\n",
       "    </tr>\n",
       "  </tbody>\n",
       "</table>\n",
       "<p>1 rows × 40 columns</p>\n",
       "</div>"
      ],
      "text/plain": [
       "        Product ID             Product Code/SKU  \\\n",
       "176143      261039  25A18 - B & B MANUFACTURING   \n",
       "\n",
       "                        Category String  \\\n",
       "176143  Sprockets/Roller Chain Sprocket   \n",
       "\n",
       "                                    Product Custom Fields Material  \\\n",
       "176143  Teeth=18;\"Tooth Style=25\";Type=A;\"Bore Type=Mi...    Steel   \n",
       "\n",
       "       Overall Length Inch Overall Length MM Bore / Inner Diameter Inch  \\\n",
       "176143                0.11             2.794                       0.25   \n",
       "\n",
       "       Bore / Inner Diameter MM Thread Size  ... Bushing Style  \\\n",
       "176143                     6.35         NaN  ...           NaN   \n",
       "\n",
       "       Min Usable Length Inch Min Usable Length MM Belt Width Inch  \\\n",
       "176143                    NaN                  NaN             NaN   \n",
       "\n",
       "       Belt Width MM Pressure Angle Diametral Pitch E Dim Inch I Dim Inch  \\\n",
       "176143           NaN            NaN             NaN        NaN        NaN   \n",
       "\n",
       "       M Dim Inch  \n",
       "176143        NaN  \n",
       "\n",
       "[1 rows x 40 columns]"
      ]
     },
     "execution_count": 13,
     "metadata": {},
     "output_type": "execute_result"
    }
   ],
   "source": [
    "df_ = removeEmptyFields(df.loc[df['Pitch Diameter Inch'].isna()==False])\n",
    "showDF(df_)"
   ]
  },
  {
   "cell_type": "code",
   "execution_count": 14,
   "metadata": {},
   "outputs": [
    {
     "data": {
      "text/plain": [
       "Pulleys and Sheaves/Timing Pulley          3846\n",
       "Pulleys and Sheaves/Timing Pulley Stock     979\n",
       "Sprockets/Roller Chain Sprocket             543\n",
       "Pulleys and Sheaves/V-Belt Pulley           378\n",
       "Pulleys and Sheaves/Poly-V Pulley            45\n",
       "Gear and Gear Racks/Spur Gear                29\n",
       "Pulleys and Sheaves/Idler Pulley             28\n",
       "Idlers and Tensioners/Idler Sprocket         18\n",
       "Name: Category String, dtype: int64"
      ]
     },
     "execution_count": 14,
     "metadata": {},
     "output_type": "execute_result"
    }
   ],
   "source": [
    "df_['Category String'].value_counts()"
   ]
  },
  {
   "cell_type": "code",
   "execution_count": 9,
   "metadata": {},
   "outputs": [
    {
     "data": {
      "text/plain": [
       "['Diametral Pitch', 'Pitch Diameter Inch', 'Pitch Diameter MM']"
      ]
     },
     "execution_count": 9,
     "metadata": {},
     "output_type": "execute_result"
    }
   ],
   "source": [
    "[i for i in sorted(df_.columns) if 'Pitch' in i]"
   ]
  },
  {
   "cell_type": "code",
   "execution_count": 104,
   "metadata": {
    "scrolled": false
   },
   "outputs": [
    {
     "name": "stdout",
     "output_type": "stream",
     "text": [
      "Number of Records - 22995\n"
     ]
    },
    {
     "data": {
      "text/html": [
       "<div>\n",
       "<style scoped>\n",
       "    .dataframe tbody tr th:only-of-type {\n",
       "        vertical-align: middle;\n",
       "    }\n",
       "\n",
       "    .dataframe tbody tr th {\n",
       "        vertical-align: top;\n",
       "    }\n",
       "\n",
       "    .dataframe thead th {\n",
       "        text-align: right;\n",
       "    }\n",
       "</style>\n",
       "<table border=\"1\" class=\"dataframe\">\n",
       "  <thead>\n",
       "    <tr style=\"text-align: right;\">\n",
       "      <th></th>\n",
       "      <th>Product ID</th>\n",
       "      <th>Product Code/SKU</th>\n",
       "      <th>Category String</th>\n",
       "      <th>Product Custom Fields</th>\n",
       "      <th>Material</th>\n",
       "      <th>Width Inch</th>\n",
       "      <th>Width MM</th>\n",
       "      <th>Shaft Inner Diameter Inch</th>\n",
       "      <th>Shaft Inner Diameter MM</th>\n",
       "      <th>Bore Outer Diameter Inch</th>\n",
       "      <th>Bore Outer Diameter MM</th>\n",
       "      <th>Lip Style</th>\n",
       "      <th>Garter Spring Present</th>\n",
       "      <th>Outer Case Material</th>\n",
       "      <th>PSI</th>\n",
       "    </tr>\n",
       "  </thead>\n",
       "  <tbody>\n",
       "    <tr>\n",
       "      <th>152188</th>\n",
       "      <td>236425</td>\n",
       "      <td>01041VCY - DICHTOMATIK AMERICAS</td>\n",
       "      <td>Seals/Shaft Seals</td>\n",
       "      <td>\"Width Inch=0.126\"\"\";\"Width MM=3.2\";\"Shaft Inn...</td>\n",
       "      <td>Nitrile Rubber</td>\n",
       "      <td>0.126</td>\n",
       "      <td>3.2</td>\n",
       "      <td>0.125</td>\n",
       "      <td>3.175</td>\n",
       "      <td>0.414</td>\n",
       "      <td>10.516</td>\n",
       "      <td>Single</td>\n",
       "      <td>No</td>\n",
       "      <td>NaN</td>\n",
       "      <td>NaN</td>\n",
       "    </tr>\n",
       "  </tbody>\n",
       "</table>\n",
       "</div>"
      ],
      "text/plain": [
       "        Product ID                 Product Code/SKU    Category String  \\\n",
       "152188      236425  01041VCY - DICHTOMATIK AMERICAS  Seals/Shaft Seals   \n",
       "\n",
       "                                    Product Custom Fields        Material  \\\n",
       "152188  \"Width Inch=0.126\"\"\";\"Width MM=3.2\";\"Shaft Inn...  Nitrile Rubber   \n",
       "\n",
       "       Width Inch Width MM Shaft Inner Diameter Inch Shaft Inner Diameter MM  \\\n",
       "152188      0.126      3.2                     0.125                   3.175   \n",
       "\n",
       "       Bore Outer Diameter Inch Bore Outer Diameter MM Lip Style  \\\n",
       "152188                    0.414                 10.516    Single   \n",
       "\n",
       "       Garter Spring Present Outer Case Material  PSI  \n",
       "152188                    No                 NaN  NaN  "
      ]
     },
     "execution_count": 104,
     "metadata": {},
     "output_type": "execute_result"
    }
   ],
   "source": [
    "df_ = removeEmptyFields(df.loc[df['Bore Outer Diameter Inch'].isna()==False])\n",
    "showDF(df_)"
   ]
  },
  {
   "cell_type": "code",
   "execution_count": 107,
   "metadata": {
    "scrolled": true
   },
   "outputs": [
    {
     "data": {
      "text/plain": [
       "['Bore Outer Diameter Inch',\n",
       " 'Bore Outer Diameter MM',\n",
       " 'Shaft Inner Diameter Inch',\n",
       " 'Shaft Inner Diameter MM']"
      ]
     },
     "execution_count": 107,
     "metadata": {},
     "output_type": "execute_result"
    }
   ],
   "source": [
    "[i for i in sorted(df_.columns) if 'iameter' in i.lower()]"
   ]
  },
  {
   "cell_type": "code",
   "execution_count": 106,
   "metadata": {
    "scrolled": true
   },
   "outputs": [
    {
     "data": {
      "text/plain": [
       "Seals/Shaft Seals    22995\n",
       "Name: Category String, dtype: int64"
      ]
     },
     "execution_count": 106,
     "metadata": {},
     "output_type": "execute_result"
    }
   ],
   "source": [
    "df_['Category String'].value_counts()"
   ]
  },
  {
   "cell_type": "code",
   "execution_count": 118,
   "metadata": {
    "scrolled": false
   },
   "outputs": [
    {
     "name": "stdout",
     "output_type": "stream",
     "text": [
      "Number of Records - 545\n"
     ]
    },
    {
     "data": {
      "text/html": [
       "<div>\n",
       "<style scoped>\n",
       "    .dataframe tbody tr th:only-of-type {\n",
       "        vertical-align: middle;\n",
       "    }\n",
       "\n",
       "    .dataframe tbody tr th {\n",
       "        vertical-align: top;\n",
       "    }\n",
       "\n",
       "    .dataframe thead th {\n",
       "        text-align: right;\n",
       "    }\n",
       "</style>\n",
       "<table border=\"1\" class=\"dataframe\">\n",
       "  <thead>\n",
       "    <tr style=\"text-align: right;\">\n",
       "      <th></th>\n",
       "      <th>Product ID</th>\n",
       "      <th>Product Code/SKU</th>\n",
       "      <th>Category String</th>\n",
       "      <th>Product Custom Fields</th>\n",
       "      <th>Bore / Inner Diameter Inch</th>\n",
       "      <th>Bore / Inner Diameter MM</th>\n",
       "      <th>Bearing Locking Style</th>\n",
       "      <th>Rolling Element</th>\n",
       "      <th>Housing Material</th>\n",
       "      <th>Housing Style</th>\n",
       "      <th>Bearing Insert Part Number</th>\n",
       "      <th>Travel Length</th>\n",
       "      <th>Compatible Take-Up Frame</th>\n",
       "      <th>Note</th>\n",
       "    </tr>\n",
       "  </thead>\n",
       "  <tbody>\n",
       "    <tr>\n",
       "      <th>43776</th>\n",
       "      <td>112077</td>\n",
       "      <td>STH-20R-6 - SEALMASTER</td>\n",
       "      <td>Bearings/Mounted Bearings/Take Up Unit</td>\n",
       "      <td>\"Rolling Element=Ball Bearing\";\"Housing Style=...</td>\n",
       "      <td>1.25</td>\n",
       "      <td>31.75</td>\n",
       "      <td>Set Screw</td>\n",
       "      <td>Ball Bearing</td>\n",
       "      <td>Cast Iron</td>\n",
       "      <td>Center Pull Horizontal</td>\n",
       "      <td>1-14R</td>\n",
       "      <td>6</td>\n",
       "      <td>STH</td>\n",
       "      <td>NaN</td>\n",
       "    </tr>\n",
       "  </tbody>\n",
       "</table>\n",
       "</div>"
      ],
      "text/plain": [
       "       Product ID        Product Code/SKU  \\\n",
       "43776      112077  STH-20R-6 - SEALMASTER   \n",
       "\n",
       "                              Category String  \\\n",
       "43776  Bearings/Mounted Bearings/Take Up Unit   \n",
       "\n",
       "                                   Product Custom Fields  \\\n",
       "43776  \"Rolling Element=Ball Bearing\";\"Housing Style=...   \n",
       "\n",
       "      Bore / Inner Diameter Inch Bore / Inner Diameter MM  \\\n",
       "43776                       1.25                    31.75   \n",
       "\n",
       "      Bearing Locking Style Rolling Element Housing Material  \\\n",
       "43776             Set Screw    Ball Bearing        Cast Iron   \n",
       "\n",
       "                Housing Style Bearing Insert Part Number Travel Length  \\\n",
       "43776  Center Pull Horizontal                      1-14R             6   \n",
       "\n",
       "      Compatible Take-Up Frame Note  \n",
       "43776                      STH  NaN  "
      ]
     },
     "execution_count": 118,
     "metadata": {},
     "output_type": "execute_result"
    }
   ],
   "source": [
    "df_ = removeEmptyFields(df.loc[df['Travel Length'].isna()==False])\n",
    "showDF(df_)"
   ]
  },
  {
   "cell_type": "code",
   "execution_count": 119,
   "metadata": {},
   "outputs": [
    {
     "data": {
      "text/plain": [
       "['Travel Length']"
      ]
     },
     "execution_count": 119,
     "metadata": {},
     "output_type": "execute_result"
    }
   ],
   "source": [
    "[i for i in sorted(df_.columns) if 'ength' in i.lower()]"
   ]
  },
  {
   "cell_type": "code",
   "execution_count": 116,
   "metadata": {},
   "outputs": [
    {
     "data": {
      "text/plain": [
       "Pulleys and Sheaves/Timing Pulley Stock    985\n",
       "Name: Category String, dtype: int64"
      ]
     },
     "execution_count": 116,
     "metadata": {},
     "output_type": "execute_result"
    }
   ],
   "source": [
    "df_['Category String'].value_counts()"
   ]
  },
  {
   "cell_type": "code",
   "execution_count": 101,
   "metadata": {},
   "outputs": [
    {
     "data": {
      "text/html": [
       "<div>\n",
       "<style scoped>\n",
       "    .dataframe tbody tr th:only-of-type {\n",
       "        vertical-align: middle;\n",
       "    }\n",
       "\n",
       "    .dataframe tbody tr th {\n",
       "        vertical-align: top;\n",
       "    }\n",
       "\n",
       "    .dataframe thead th {\n",
       "        text-align: right;\n",
       "    }\n",
       "</style>\n",
       "<table border=\"1\" class=\"dataframe\">\n",
       "  <thead>\n",
       "    <tr style=\"text-align: right;\">\n",
       "      <th></th>\n",
       "      <th>Product ID</th>\n",
       "      <th>Product Code/SKU</th>\n",
       "      <th>Category String</th>\n",
       "      <th>Product Custom Fields</th>\n",
       "      <th>Material</th>\n",
       "      <th>Bore / Inner Diameter Inch</th>\n",
       "      <th>Bore / Inner Diameter MM</th>\n",
       "      <th>Tooth Style</th>\n",
       "      <th>Outer Diameter Inch</th>\n",
       "      <th>Outer Diameter MM</th>\n",
       "      <th>Finish</th>\n",
       "      <th>ID Inch</th>\n",
       "      <th>Thickness Inch</th>\n",
       "      <th>Overall Thickness Inch</th>\n",
       "    </tr>\n",
       "  </thead>\n",
       "  <tbody>\n",
       "    <tr>\n",
       "      <th>177532</th>\n",
       "      <td>265733</td>\n",
       "      <td>12XL-FSS - B &amp; B MANUFACTURING</td>\n",
       "      <td>Pulleys and Sheaves/Timing Pulley Flange</td>\n",
       "      <td>\"Material=Stainless Steel\"</td>\n",
       "      <td>Stainless Steel</td>\n",
       "      <td>NaN</td>\n",
       "      <td>NaN</td>\n",
       "      <td>NaN</td>\n",
       "      <td>NaN</td>\n",
       "      <td>NaN</td>\n",
       "      <td>NaN</td>\n",
       "      <td>NaN</td>\n",
       "      <td>NaN</td>\n",
       "      <td>NaN</td>\n",
       "    </tr>\n",
       "    <tr>\n",
       "      <th>177661</th>\n",
       "      <td>265739</td>\n",
       "      <td>15XL-FSS - B &amp; B MANUFACTURING</td>\n",
       "      <td>Pulleys and Sheaves/Timing Pulley Flange</td>\n",
       "      <td>\"Material=Stainless Steel\"</td>\n",
       "      <td>Stainless Steel</td>\n",
       "      <td>NaN</td>\n",
       "      <td>NaN</td>\n",
       "      <td>NaN</td>\n",
       "      <td>NaN</td>\n",
       "      <td>NaN</td>\n",
       "      <td>NaN</td>\n",
       "      <td>NaN</td>\n",
       "      <td>NaN</td>\n",
       "      <td>NaN</td>\n",
       "    </tr>\n",
       "    <tr>\n",
       "      <th>177678</th>\n",
       "      <td>265516</td>\n",
       "      <td>30MP-FA - B &amp; B MANUFACTURING</td>\n",
       "      <td>Pulleys and Sheaves/Timing Pulley Flange</td>\n",
       "      <td>\"Tooth Style=MXL\";\"Outer Diameter Inch=0.945\";...</td>\n",
       "      <td>Aluminum</td>\n",
       "      <td>NaN</td>\n",
       "      <td>NaN</td>\n",
       "      <td>MXL</td>\n",
       "      <td>0.945</td>\n",
       "      <td>24</td>\n",
       "      <td>NaN</td>\n",
       "      <td>0.626</td>\n",
       "      <td>0.032</td>\n",
       "      <td>0.052</td>\n",
       "    </tr>\n",
       "    <tr>\n",
       "      <th>177792</th>\n",
       "      <td>265517</td>\n",
       "      <td>32MP-FA - B &amp; B MANUFACTURING</td>\n",
       "      <td>Pulleys and Sheaves/Timing Pulley Flange</td>\n",
       "      <td>\"Tooth Style=MXL\";\"Outer Diameter Inch=1\";\"Out...</td>\n",
       "      <td>Aluminum</td>\n",
       "      <td>NaN</td>\n",
       "      <td>NaN</td>\n",
       "      <td>MXL</td>\n",
       "      <td>1</td>\n",
       "      <td>25.4</td>\n",
       "      <td>NaN</td>\n",
       "      <td>0.678</td>\n",
       "      <td>0.032</td>\n",
       "      <td>0.052</td>\n",
       "    </tr>\n",
       "    <tr>\n",
       "      <th>177797</th>\n",
       "      <td>265501</td>\n",
       "      <td>11MP-FA - B &amp; B MANUFACTURING</td>\n",
       "      <td>Pulleys and Sheaves/Timing Pulley Flange</td>\n",
       "      <td>\"Tooth Style=MXL\"\"\";\"Outer Diameter Inch=0.45\"...</td>\n",
       "      <td>Aluminum</td>\n",
       "      <td>NaN</td>\n",
       "      <td>NaN</td>\n",
       "      <td>MXL</td>\n",
       "      <td>0.45</td>\n",
       "      <td>11.4</td>\n",
       "      <td>Clear Anodized</td>\n",
       "      <td>0.214</td>\n",
       "      <td>0.025</td>\n",
       "      <td>0.045</td>\n",
       "    </tr>\n",
       "    <tr>\n",
       "      <th>...</th>\n",
       "      <td>...</td>\n",
       "      <td>...</td>\n",
       "      <td>...</td>\n",
       "      <td>...</td>\n",
       "      <td>...</td>\n",
       "      <td>...</td>\n",
       "      <td>...</td>\n",
       "      <td>...</td>\n",
       "      <td>...</td>\n",
       "      <td>...</td>\n",
       "      <td>...</td>\n",
       "      <td>...</td>\n",
       "      <td>...</td>\n",
       "      <td>...</td>\n",
       "    </tr>\n",
       "    <tr>\n",
       "      <th>182332</th>\n",
       "      <td>267180</td>\n",
       "      <td>64-5MX-FS - B &amp; B MANUFACTURING</td>\n",
       "      <td>Pulleys and Sheaves/Timing Pulley Flange</td>\n",
       "      <td>\"Tooth Style=GT2 5mm\";\"Outer Diameter Inch=4.1...</td>\n",
       "      <td>Steel</td>\n",
       "      <td>NaN</td>\n",
       "      <td>NaN</td>\n",
       "      <td>GT2 5mm</td>\n",
       "      <td>4.17</td>\n",
       "      <td>105.9</td>\n",
       "      <td>NaN</td>\n",
       "      <td>3.38</td>\n",
       "      <td>0.06</td>\n",
       "      <td>0.09</td>\n",
       "    </tr>\n",
       "    <tr>\n",
       "      <th>182333</th>\n",
       "      <td>267181</td>\n",
       "      <td>64-5MX-FSS - B &amp; B MANUFACTURING</td>\n",
       "      <td>Pulleys and Sheaves/Timing Pulley Flange</td>\n",
       "      <td>\"Material=Stainless Steel\"</td>\n",
       "      <td>Stainless Steel</td>\n",
       "      <td>NaN</td>\n",
       "      <td>NaN</td>\n",
       "      <td>NaN</td>\n",
       "      <td>NaN</td>\n",
       "      <td>NaN</td>\n",
       "      <td>NaN</td>\n",
       "      <td>NaN</td>\n",
       "      <td>NaN</td>\n",
       "      <td>NaN</td>\n",
       "    </tr>\n",
       "    <tr>\n",
       "      <th>182334</th>\n",
       "      <td>267182</td>\n",
       "      <td>68-5MX-FS - B &amp; B MANUFACTURING</td>\n",
       "      <td>Pulleys and Sheaves/Timing Pulley Flange</td>\n",
       "      <td>\"Tooth Style=GT2 5mm\";\"Outer Diameter Inch=4.5...</td>\n",
       "      <td>Steel</td>\n",
       "      <td>NaN</td>\n",
       "      <td>NaN</td>\n",
       "      <td>GT2 5mm</td>\n",
       "      <td>4.52</td>\n",
       "      <td>114.8</td>\n",
       "      <td>NaN</td>\n",
       "      <td>3.629</td>\n",
       "      <td>0.06</td>\n",
       "      <td>0.09</td>\n",
       "    </tr>\n",
       "    <tr>\n",
       "      <th>182335</th>\n",
       "      <td>267183</td>\n",
       "      <td>68-5MX-FSS - B &amp; B MANUFACTURING</td>\n",
       "      <td>Pulleys and Sheaves/Timing Pulley Flange</td>\n",
       "      <td>\"Material=Stainless Steel\"</td>\n",
       "      <td>Stainless Steel</td>\n",
       "      <td>NaN</td>\n",
       "      <td>NaN</td>\n",
       "      <td>NaN</td>\n",
       "      <td>NaN</td>\n",
       "      <td>NaN</td>\n",
       "      <td>NaN</td>\n",
       "      <td>NaN</td>\n",
       "      <td>NaN</td>\n",
       "      <td>NaN</td>\n",
       "    </tr>\n",
       "    <tr>\n",
       "      <th>182336</th>\n",
       "      <td>267184</td>\n",
       "      <td>72-5MX-FS - B &amp; B MANUFACTURING</td>\n",
       "      <td>Pulleys and Sheaves/Timing Pulley Flange</td>\n",
       "      <td>\"Tooth Style=GT2 5mm\";\"Outer Diameter Inch=4.6...</td>\n",
       "      <td>Steel</td>\n",
       "      <td>NaN</td>\n",
       "      <td>NaN</td>\n",
       "      <td>GT2 5mm</td>\n",
       "      <td>4.67</td>\n",
       "      <td>118.6</td>\n",
       "      <td>NaN</td>\n",
       "      <td>3.75</td>\n",
       "      <td>0.06</td>\n",
       "      <td>0.09</td>\n",
       "    </tr>\n",
       "  </tbody>\n",
       "</table>\n",
       "<p>767 rows × 14 columns</p>\n",
       "</div>"
      ],
      "text/plain": [
       "        Product ID                  Product Code/SKU  \\\n",
       "177532      265733    12XL-FSS - B & B MANUFACTURING   \n",
       "177661      265739    15XL-FSS - B & B MANUFACTURING   \n",
       "177678      265516     30MP-FA - B & B MANUFACTURING   \n",
       "177792      265517     32MP-FA - B & B MANUFACTURING   \n",
       "177797      265501     11MP-FA - B & B MANUFACTURING   \n",
       "...            ...                               ...   \n",
       "182332      267180   64-5MX-FS - B & B MANUFACTURING   \n",
       "182333      267181  64-5MX-FSS - B & B MANUFACTURING   \n",
       "182334      267182   68-5MX-FS - B & B MANUFACTURING   \n",
       "182335      267183  68-5MX-FSS - B & B MANUFACTURING   \n",
       "182336      267184   72-5MX-FS - B & B MANUFACTURING   \n",
       "\n",
       "                                 Category String  \\\n",
       "177532  Pulleys and Sheaves/Timing Pulley Flange   \n",
       "177661  Pulleys and Sheaves/Timing Pulley Flange   \n",
       "177678  Pulleys and Sheaves/Timing Pulley Flange   \n",
       "177792  Pulleys and Sheaves/Timing Pulley Flange   \n",
       "177797  Pulleys and Sheaves/Timing Pulley Flange   \n",
       "...                                          ...   \n",
       "182332  Pulleys and Sheaves/Timing Pulley Flange   \n",
       "182333  Pulleys and Sheaves/Timing Pulley Flange   \n",
       "182334  Pulleys and Sheaves/Timing Pulley Flange   \n",
       "182335  Pulleys and Sheaves/Timing Pulley Flange   \n",
       "182336  Pulleys and Sheaves/Timing Pulley Flange   \n",
       "\n",
       "                                    Product Custom Fields         Material  \\\n",
       "177532                         \"Material=Stainless Steel\"  Stainless Steel   \n",
       "177661                         \"Material=Stainless Steel\"  Stainless Steel   \n",
       "177678  \"Tooth Style=MXL\";\"Outer Diameter Inch=0.945\";...         Aluminum   \n",
       "177792  \"Tooth Style=MXL\";\"Outer Diameter Inch=1\";\"Out...         Aluminum   \n",
       "177797  \"Tooth Style=MXL\"\"\";\"Outer Diameter Inch=0.45\"...         Aluminum   \n",
       "...                                                   ...              ...   \n",
       "182332  \"Tooth Style=GT2 5mm\";\"Outer Diameter Inch=4.1...            Steel   \n",
       "182333                         \"Material=Stainless Steel\"  Stainless Steel   \n",
       "182334  \"Tooth Style=GT2 5mm\";\"Outer Diameter Inch=4.5...            Steel   \n",
       "182335                         \"Material=Stainless Steel\"  Stainless Steel   \n",
       "182336  \"Tooth Style=GT2 5mm\";\"Outer Diameter Inch=4.6...            Steel   \n",
       "\n",
       "       Bore / Inner Diameter Inch Bore / Inner Diameter MM Tooth Style  \\\n",
       "177532                        NaN                      NaN         NaN   \n",
       "177661                        NaN                      NaN         NaN   \n",
       "177678                        NaN                      NaN         MXL   \n",
       "177792                        NaN                      NaN         MXL   \n",
       "177797                        NaN                      NaN         MXL   \n",
       "...                           ...                      ...         ...   \n",
       "182332                        NaN                      NaN     GT2 5mm   \n",
       "182333                        NaN                      NaN         NaN   \n",
       "182334                        NaN                      NaN     GT2 5mm   \n",
       "182335                        NaN                      NaN         NaN   \n",
       "182336                        NaN                      NaN     GT2 5mm   \n",
       "\n",
       "       Outer Diameter Inch Outer Diameter MM          Finish ID Inch  \\\n",
       "177532                 NaN               NaN             NaN     NaN   \n",
       "177661                 NaN               NaN             NaN     NaN   \n",
       "177678               0.945                24             NaN   0.626   \n",
       "177792                   1              25.4             NaN   0.678   \n",
       "177797                0.45              11.4  Clear Anodized   0.214   \n",
       "...                    ...               ...             ...     ...   \n",
       "182332                4.17             105.9             NaN    3.38   \n",
       "182333                 NaN               NaN             NaN     NaN   \n",
       "182334                4.52             114.8             NaN   3.629   \n",
       "182335                 NaN               NaN             NaN     NaN   \n",
       "182336                4.67             118.6             NaN    3.75   \n",
       "\n",
       "       Thickness Inch Overall Thickness Inch  \n",
       "177532            NaN                    NaN  \n",
       "177661            NaN                    NaN  \n",
       "177678          0.032                  0.052  \n",
       "177792          0.032                  0.052  \n",
       "177797          0.025                  0.045  \n",
       "...               ...                    ...  \n",
       "182332           0.06                   0.09  \n",
       "182333            NaN                    NaN  \n",
       "182334           0.06                   0.09  \n",
       "182335            NaN                    NaN  \n",
       "182336           0.06                   0.09  \n",
       "\n",
       "[767 rows x 14 columns]"
      ]
     },
     "execution_count": 101,
     "metadata": {},
     "output_type": "execute_result"
    }
   ],
   "source": [
    "removeEmptyFields(df.loc[df['Category String']== \"Pulleys and Sheaves/Timing Pulley Flange\"])"
   ]
  },
  {
   "cell_type": "code",
   "execution_count": 117,
   "metadata": {},
   "outputs": [
    {
     "data": {
      "text/plain": [
       "array([nan, '6', '9', '12', '18', '24', '7', '30', '10', '36', '15', '42'],\n",
       "      dtype=object)"
      ]
     },
     "execution_count": 117,
     "metadata": {},
     "output_type": "execute_result"
    }
   ],
   "source": [
    "df['Travel Length'].unique()"
   ]
  },
  {
   "cell_type": "code",
   "execution_count": null,
   "metadata": {},
   "outputs": [],
   "source": []
  }
 ],
 "metadata": {
  "kernelspec": {
   "display_name": "Python 3",
   "language": "python",
   "name": "python3"
  },
  "language_info": {
   "codemirror_mode": {
    "name": "ipython",
    "version": 3
   },
   "file_extension": ".py",
   "mimetype": "text/x-python",
   "name": "python",
   "nbconvert_exporter": "python",
   "pygments_lexer": "ipython3",
   "version": "3.8.3"
  }
 },
 "nbformat": 4,
 "nbformat_minor": 4
}
